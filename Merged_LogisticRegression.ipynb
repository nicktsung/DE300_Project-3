{
 "cells": [
  {
   "cell_type": "code",
   "execution_count": 6,
   "id": "6ba08f0e",
   "metadata": {},
   "outputs": [],
   "source": [
    "import pandas as pd\n",
    "from pandas.io.formats.style import Styler\n",
    "import numpy as np\n",
    "import matplotlib.pyplot as plt\n",
    "import seaborn as sns\n",
    "from fancyimpute import IterativeImputer\n",
    "pd.set_option('display.width', 180)\n",
    "plt.style.use('ggplot')\n",
    "from IPython.display import display\n",
    "from sklearn.ensemble import RandomForestRegressor\n",
    "from sklearn.ensemble import RandomForestClassifier\n",
    "from xgboost import XGBRegressor\n",
    "from xgboost import XGBClassifier\n",
    "from sklearn.preprocessing import QuantileTransformer\n",
    "import math\n",
    "import scipy.stats\n",
    "from sklearn.model_selection import cross_val_score\n",
    "from sklearn.metrics import f1_score\n",
    "from sklearn.model_selection import train_test_split\n",
    "from sklearn.linear_model import LogisticRegression"
   ]
  },
  {
   "cell_type": "code",
   "execution_count": 7,
   "id": "84f5c88c",
   "metadata": {},
   "outputs": [],
   "source": [
    "# import the merged dataset\n",
    "merged_df = pd.read_csv('merged_dataset.csv')"
   ]
  },
  {
   "cell_type": "code",
   "execution_count": 38,
   "id": "a485867e",
   "metadata": {},
   "outputs": [
    {
     "name": "stdout",
     "output_type": "stream",
     "text": [
      "F1 score: 0.83248730964467\n"
     ]
    }
   ],
   "source": [
    "# split the encoded features into training and test datasets\n",
    "X_train, X_test, y_train, y_test = train_test_split(\n",
    "    merged_df.drop('target', axis=1),\n",
    "    merged_df['target'],\n",
    "    test_size=0.2,  # adjust the test size as desired (e.g., 0.2 for 20% test data)\n",
    "    random_state=38  # set a random seed for reproducibility\n",
    ")\n",
    "\n",
    "# create an instance of a Random Forest classifier\n",
    "logreg = LogisticRegression(penalty = 'l2', C = 0.1, random_state=38, max_iter = 5000, solver = 'lbfgs')\n",
    "\n",
    "# train the model\n",
    "logreg.fit(X_train, y_train)\n",
    "\n",
    "# generate predictions\n",
    "predictions = logreg.predict(X_test)\n",
    "\n",
    "# calculate the F1 score\n",
    "f1 = f1_score(y_test, predictions)\n",
    "\n",
    "# Print the F1 score\n",
    "print(\"F1 score:\", f1)"
   ]
  },
  {
   "cell_type": "code",
   "execution_count": 30,
   "id": "0c8116ff",
   "metadata": {},
   "outputs": [
    {
     "name": "stdout",
     "output_type": "stream",
     "text": [
      "F1 score: 0.805 (+/- 0.131)\n"
     ]
    }
   ],
   "source": [
    "# Create an instance of a Logistic Regression classifier\n",
    "logreg = LogisticRegression(penalty = 'l2', solver = 'lbfgs', C = 0.1, random_state=38)\n",
    "\n",
    "# Perform 10-fold cross-validation with F1 score\n",
    "f1_scores = cross_val_score(logreg, merged_df.drop('target', axis=1), merged_df['target'], cv=10, scoring=\"f1\", n_jobs=-1)\n",
    "\n",
    "# Print the mean and standard deviation of the F1 scores\n",
    "print(\"F1 score: %0.3f (+/- %0.3f)\" % (f1_scores.mean(), f1_scores.std() * 2))"
   ]
  },
  {
   "cell_type": "markdown",
   "id": "ee68b447",
   "metadata": {},
   "source": [
    "from sklearn.model_selection import GridSearchCV\n",
    "from sklearn.metrics import f1_score\n",
    "\n",
    "# Define the parameter grid for the grid search\n",
    "param_grid = {\n",
    "    'penalty': ['l1', 'l2', None],\n",
    "    'C': [0.1, 1.0, 10.0],\n",
    "    'solver': ['liblinear', 'saga', 'lbfgs']\n",
    "}\n",
    "\n",
    "# Create an instance of Logistic Regression\n",
    "logreg = LogisticRegression(random_state=38)\n",
    "\n",
    "# Perform grid search using 5-fold cross-validation\n",
    "grid_search = GridSearchCV(logreg, param_grid, cv=10, scoring='f1', verbose = 2)\n",
    "grid_search.fit(merged_df.drop('target', axis=1), merged_df['target'])\n",
    "\n",
    "# Print the best parameters and best score\n",
    "print(\"Best parameters: \", grid_search.best_params_)\n",
    "print(\"Best score: \", grid_search.best_score_)"
   ]
  },
  {
   "cell_type": "markdown",
   "id": "e1fc1534",
   "metadata": {},
   "source": [
    "Best parameters:  {'C': 0.1, 'penalty': 'l2', 'solver': 'liblinear'}\n",
    "Best score:  0.8159145776086516"
   ]
  },
  {
   "cell_type": "code",
   "execution_count": 39,
   "id": "0bd99d84",
   "metadata": {},
   "outputs": [
    {
     "name": "stdout",
     "output_type": "stream",
     "text": [
      "F1 score: 0.816 (+/- 0.138)\n"
     ]
    }
   ],
   "source": [
    "# Create an instance of a Logistic Regression classifier\n",
    "logreg = LogisticRegression(penalty = 'l2', solver = 'liblinear', C = 0.1, random_state=38)\n",
    "\n",
    "# Perform 10-fold cross-validation with F1 score\n",
    "f1_scores = cross_val_score(logreg, merged_df.drop('target', axis=1), merged_df['target'], cv=10, scoring=\"f1\", n_jobs=-1)\n",
    "\n",
    "# Print the mean and standard deviation of the F1 scores\n",
    "print(\"F1 score: %0.3f (+/- %0.3f)\" % (f1_scores.mean(), f1_scores.std() * 2))"
   ]
  },
  {
   "cell_type": "code",
   "execution_count": 40,
   "id": "099e87de",
   "metadata": {},
   "outputs": [
    {
     "name": "stdout",
     "output_type": "stream",
     "text": [
      "F1 score: 0.8341708542713568\n"
     ]
    }
   ],
   "source": [
    "# split the encoded features into training and test datasets\n",
    "X_train, X_test, y_train, y_test = train_test_split(\n",
    "    merged_df.drop('target', axis=1),\n",
    "    merged_df['target'],\n",
    "    test_size=0.2,  # adjust the test size as desired (e.g., 0.2 for 20% test data)\n",
    "    random_state=38  # set a random seed for reproducibility\n",
    ")\n",
    "\n",
    "# create an instance of a Random Forest classifier\n",
    "logreg = LogisticRegression(penalty = 'l2', solver = 'liblinear', C = 0.1, random_state=38, max_iter = 5000)\n",
    "\n",
    "# train the model\n",
    "logreg.fit(X_train, y_train)\n",
    "\n",
    "# generate predictions\n",
    "predictions = logreg.predict(X_test)\n",
    "\n",
    "# calculate the F1 score\n",
    "f1 = f1_score(y_test, predictions)\n",
    "\n",
    "# Print the F1 score\n",
    "print(\"F1 score:\", f1)"
   ]
  }
 ],
 "metadata": {
  "kernelspec": {
   "display_name": "Python 3 (ipykernel)",
   "language": "python",
   "name": "python3"
  },
  "language_info": {
   "codemirror_mode": {
    "name": "ipython",
    "version": 3
   },
   "file_extension": ".py",
   "mimetype": "text/x-python",
   "name": "python",
   "nbconvert_exporter": "python",
   "pygments_lexer": "ipython3",
   "version": "3.10.9"
  }
 },
 "nbformat": 4,
 "nbformat_minor": 5
}
