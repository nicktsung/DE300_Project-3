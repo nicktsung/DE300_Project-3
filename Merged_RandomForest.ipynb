{
 "cells": [
  {
   "cell_type": "code",
   "execution_count": 33,
   "id": "4cb72f63",
   "metadata": {},
   "outputs": [],
   "source": [
    "import pandas as pd\n",
    "from pandas.io.formats.style import Styler\n",
    "import numpy as np\n",
    "import matplotlib.pyplot as plt\n",
    "import seaborn as sns\n",
    "from fancyimpute import IterativeImputer\n",
    "pd.set_option('display.width', 180)\n",
    "plt.style.use('ggplot')\n",
    "from IPython.display import display\n",
    "from sklearn.ensemble import RandomForestRegressor\n",
    "from sklearn.ensemble import RandomForestClassifier\n",
    "from sklearn.linear_model import LogisticRegression\n",
    "from xgboost import XGBRegressor\n",
    "from xgboost import XGBClassifier\n",
    "from sklearn.preprocessing import QuantileTransformer\n",
    "import math\n",
    "import scipy.stats\n",
    "from sklearn.model_selection import cross_val_score\n",
    "from sklearn.metrics import f1_score\n",
    "from sklearn.model_selection import train_test_split"
   ]
  },
  {
   "cell_type": "code",
   "execution_count": 6,
   "id": "b8a417d0",
   "metadata": {},
   "outputs": [],
   "source": [
    "# import the merged dataset\n",
    "merged_df = pd.read_csv('merged_dataset.csv')"
   ]
  },
  {
   "cell_type": "code",
   "execution_count": 44,
   "id": "da87c4d0",
   "metadata": {},
   "outputs": [
    {
     "name": "stdout",
     "output_type": "stream",
     "text": [
      "F1 score: 0.8307692307692308\n"
     ]
    }
   ],
   "source": [
    "# split the encoded features into training and test datasets\n",
    "X_train, X_test, y_train, y_test = train_test_split(\n",
    "    merged_df.drop('target', axis=1),\n",
    "    merged_df['target'],\n",
    "    test_size=0.2,  # adjust the test size as desired (e.g., 0.2 for 20% test data)\n",
    "    random_state=38  # set a random seed for reproducibility\n",
    ")\n",
    "\n",
    "# create an instance of a Random Forest classifier\n",
    "rfc = RandomForestClassifier(n_estimators = 15, max_depth = 9, random_state=38)\n",
    "\n",
    "# train the model\n",
    "rfc.fit(X_train, y_train)\n",
    "\n",
    "# generate predictions\n",
    "predictions = rfc.predict(X_test)\n",
    "\n",
    "# calculate the F1 score\n",
    "f1 = f1_score(y_test, predictions)\n",
    "\n",
    "# Print the F1 score\n",
    "print(\"F1 score:\", f1)"
   ]
  },
  {
   "cell_type": "code",
   "execution_count": 49,
   "id": "2a3e7e00",
   "metadata": {},
   "outputs": [
    {
     "name": "stdout",
     "output_type": "stream",
     "text": [
      "F1 score: 0.805 (+/- 0.145)\n"
     ]
    }
   ],
   "source": [
    "# create an instance of a Random Forest classifier\n",
    "rfc = RandomForestClassifier(n_estimators = 15, max_depth = 8, random_state=38)\n",
    "\n",
    "# perform 10-fold cross validation with F1 score\n",
    "f1_scores = cross_val_score(rfc, merged_df.drop('target', axis=1), merged_df['target'], cv=10, scoring=\"f1\", n_jobs = -1)\n",
    "\n",
    "# print the mean and standard deviation of the F1 scores\n",
    "print(\"F1 score: %0.3f (+/- %0.3f)\" % (f1_scores.mean(), f1_scores.std() * 2))"
   ]
  },
  {
   "cell_type": "markdown",
   "id": "ff78db33",
   "metadata": {},
   "source": [
    "from sklearn.model_selection import GridSearchCV\n",
    "from sklearn.metrics import f1_score\n",
    "\n",
    "# Define the parameter grid for the grid search\n",
    "param_grid = {\n",
    "    'n_estimators': [15, 30, 50, 100],\n",
    "    'max_features': ['auto', 'sqrt'],\n",
    "    'max_depth': [None, 5, 10],\n",
    "    'min_samples_split': [2, 5, 10],\n",
    "    'min_samples_leaf': [1, 2, 4],\n",
    "}\n",
    "\n",
    "# Create an instance of Logistic Regression\n",
    "rfc = RandomForestClassifier(random_state=38)\n",
    "\n",
    "# Perform grid search using 5-fold cross-validation\n",
    "grid_search = GridSearchCV(rfc, param_grid, cv=10, scoring='f1', verbose = 3)\n",
    "grid_search.fit(merged_df.drop('target', axis=1), merged_df['target'])\n",
    "\n",
    "# Print the best parameters and best score\n",
    "print(\"Best parameters: \", grid_search.best_params_)\n",
    "print(\"Best score: \", grid_search.best_score_)"
   ]
  },
  {
   "cell_type": "markdown",
   "id": "be855789",
   "metadata": {},
   "source": [
    "Best parameters:  {'max_depth': 10, 'max_features': 'auto', 'min_samples_leaf': 1, 'min_samples_split': 5, 'n_estimators': 100}\n",
    "Best score:  0.8176791355530921"
   ]
  },
  {
   "cell_type": "code",
   "execution_count": 54,
   "id": "6afc1863",
   "metadata": {},
   "outputs": [
    {
     "name": "stdout",
     "output_type": "stream",
     "text": [
      "F1 score: 0.818 (+/- 0.122)\n"
     ]
    }
   ],
   "source": [
    "# create an instance of a Random Forest classifier\n",
    "rfc = RandomForestClassifier(n_estimators = 100, max_depth = 10, min_samples_split = 5, random_state=38)\n",
    "\n",
    "# perform 10-fold cross validation with F1 score\n",
    "f1_scores = cross_val_score(rfc, merged_df.drop('target', axis=1), merged_df['target'], cv=10, scoring=\"f1\", n_jobs = -1)\n",
    "\n",
    "# print the mean and standard deviation of the F1 scores\n",
    "print(\"F1 score: %0.3f (+/- %0.3f)\" % (f1_scores.mean(), f1_scores.std() * 2))"
   ]
  },
  {
   "cell_type": "code",
   "execution_count": 55,
   "id": "3c00cfed",
   "metadata": {},
   "outputs": [
    {
     "name": "stdout",
     "output_type": "stream",
     "text": [
      "F1 score: 0.848780487804878\n"
     ]
    }
   ],
   "source": [
    "# split the encoded features into training and test datasets\n",
    "X_train, X_test, y_train, y_test = train_test_split(\n",
    "    merged_df.drop('target', axis=1),\n",
    "    merged_df['target'],\n",
    "    test_size=0.2,  # adjust the test size as desired (e.g., 0.2 for 20% test data)\n",
    "    random_state=38  # set a random seed for reproducibility\n",
    ")\n",
    "\n",
    "# create an instance of a Random Forest classifier\n",
    "rfc = RandomForestClassifier(n_estimators = 100, max_depth = 10, min_samples_split = 5, random_state=38)\n",
    "\n",
    "# train the model\n",
    "rfc.fit(X_train, y_train)\n",
    "\n",
    "# generate predictions\n",
    "predictions = rfc.predict(X_test)\n",
    "\n",
    "# calculate the F1 score\n",
    "f1 = f1_score(y_test, predictions)\n",
    "\n",
    "# Print the F1 score\n",
    "print(\"F1 score:\", f1)"
   ]
  }
 ],
 "metadata": {
  "kernelspec": {
   "display_name": "Python 3 (ipykernel)",
   "language": "python",
   "name": "python3"
  },
  "language_info": {
   "codemirror_mode": {
    "name": "ipython",
    "version": 3
   },
   "file_extension": ".py",
   "mimetype": "text/x-python",
   "name": "python",
   "nbconvert_exporter": "python",
   "pygments_lexer": "ipython3",
   "version": "3.10.9"
  }
 },
 "nbformat": 4,
 "nbformat_minor": 5
}
