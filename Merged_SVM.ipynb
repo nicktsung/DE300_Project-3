{
 "cells": [
  {
   "cell_type": "code",
   "execution_count": 23,
   "id": "762438e5",
   "metadata": {},
   "outputs": [],
   "source": [
    "import pandas as pd\n",
    "from pandas.io.formats.style import Styler\n",
    "import numpy as np\n",
    "import matplotlib.pyplot as plt\n",
    "import seaborn as sns\n",
    "from fancyimpute import IterativeImputer\n",
    "pd.set_option('display.width', 180)\n",
    "plt.style.use('ggplot')\n",
    "from IPython.display import display\n",
    "from sklearn.ensemble import RandomForestRegressor\n",
    "from sklearn.ensemble import RandomForestClassifier\n",
    "from xgboost import XGBRegressor\n",
    "from xgboost import XGBClassifier\n",
    "from sklearn.preprocessing import QuantileTransformer\n",
    "import math\n",
    "import scipy.stats\n",
    "from sklearn.model_selection import cross_val_score\n",
    "from sklearn.metrics import f1_score\n",
    "from sklearn.model_selection import train_test_split\n",
    "from sklearn.linear_model import LogisticRegression\n",
    "from sklearn.svm import SVC"
   ]
  },
  {
   "cell_type": "code",
   "execution_count": 24,
   "id": "ffda9f97",
   "metadata": {},
   "outputs": [],
   "source": [
    "# import the merged dataset\n",
    "merged_df = pd.read_csv('merged_dataset.csv')"
   ]
  },
  {
   "cell_type": "code",
   "execution_count": 25,
   "id": "9cb180de",
   "metadata": {},
   "outputs": [
    {
     "name": "stdout",
     "output_type": "stream",
     "text": [
      "F1 score: 0.7164179104477613\n"
     ]
    }
   ],
   "source": [
    "# Split the encoded features into training and test datasets\n",
    "X_train, X_test, y_train, y_test = train_test_split(\n",
    "    merged_df.drop('target', axis=1),\n",
    "    merged_df['target'],\n",
    "    test_size=0.2,  # Adjust the test size as desired (e.g., 0.2 for 20% test data)\n",
    "    random_state=38  # Set a random seed for reproducibility\n",
    ")\n",
    "\n",
    "# Create an instance of an SVM classifier\n",
    "svm = SVC(C=1.0, kernel='rbf', random_state=38)\n",
    "\n",
    "# Train the model\n",
    "svm.fit(X_train, y_train)\n",
    "\n",
    "# Generate predictions\n",
    "predictions = svm.predict(X_test)\n",
    "\n",
    "# Calculate the F1 score\n",
    "f1 = f1_score(y_test, predictions)\n",
    "\n",
    "# Print the F1 score\n",
    "print(\"F1 score:\", f1)"
   ]
  },
  {
   "cell_type": "code",
   "execution_count": 31,
   "id": "b1592306",
   "metadata": {},
   "outputs": [
    {
     "name": "stdout",
     "output_type": "stream",
     "text": [
      "F1 score: 0.533 (+/- 0.497)\n"
     ]
    }
   ],
   "source": [
    "# Create an instance of an SVM classifier\n",
    "svm = SVC(C=1.0, kernel='rbf', random_state=38)\n",
    "\n",
    "# Perform 10-fold cross-validation with F1 score\n",
    "f1_scores = cross_val_score(svm, merged_df.drop('target', axis=1), merged_df['target'], cv=5, scoring='f1', n_jobs=-1)\n",
    "\n",
    "# Print the mean and standard deviation of the F1 scores\n",
    "print(\"F1 score: %0.3f (+/- %0.3f)\" % (f1_scores.mean(), f1_scores.std() * 2))"
   ]
  },
  {
   "cell_type": "markdown",
   "id": "67af282c",
   "metadata": {},
   "source": [
    "from sklearn.svm import SVC\n",
    "from sklearn.model_selection import GridSearchCV\n",
    "from sklearn.metrics import f1_score\n",
    "\n",
    "# Define the parameter grid for the grid search\n",
    "param_grid = {\n",
    "    'C': [0.1, 1.0],\n",
    "    'kernel': ['linear', 'rbf', 'poly']\n",
    "}\n",
    "\n",
    "# Create an instance of SVM\n",
    "svm = SVC(random_state=38)\n",
    "\n",
    "# Perform grid search using 5-fold cross-validation\n",
    "grid_search = GridSearchCV(svm, param_grid, cv=10, scoring='f1', verbose=3)\n",
    "grid_search.fit(merged_df.drop('target', axis=1), merged_df['target'])\n",
    "\n",
    "# Print the best parameters and best score\n",
    "print(\"Best parameters: \", grid_search.best_params_)\n",
    "print(\"Best score: \", grid_search.best_score_)"
   ]
  },
  {
   "cell_type": "markdown",
   "id": "89ac45f4",
   "metadata": {},
   "source": [
    "Best Parameters: C=0.1, kernel='linear', random_state=38"
   ]
  },
  {
   "cell_type": "code",
   "execution_count": 38,
   "id": "99c998ef",
   "metadata": {},
   "outputs": [
    {
     "name": "stdout",
     "output_type": "stream",
     "text": [
      "F1 score: 0.826 (+/- 0.134)\n"
     ]
    }
   ],
   "source": [
    "# Create an instance of an SVM classifier\n",
    "svm = SVC(C=0.1, kernel='linear', random_state=38)\n",
    "\n",
    "# Perform 10-fold cross-validation with F1 score\n",
    "f1_scores = cross_val_score(svm, merged_df.drop('target', axis=1), merged_df['target'], cv=10, scoring='f1', n_jobs=-1)\n",
    "\n",
    "# Print the mean and standard deviation of the F1 scores\n",
    "print(\"F1 score: %0.3f (+/- %0.3f)\" % (f1_scores.mean(), f1_scores.std() * 2))"
   ]
  },
  {
   "cell_type": "code",
   "execution_count": 37,
   "id": "ed0a4403",
   "metadata": {},
   "outputs": [
    {
     "name": "stdout",
     "output_type": "stream",
     "text": [
      "F1 score: 0.8613861386138614\n"
     ]
    }
   ],
   "source": [
    "# Split the encoded features into training and test datasets\n",
    "X_train, X_test, y_train, y_test = train_test_split(\n",
    "    merged_df.drop('target', axis=1),\n",
    "    merged_df['target'],\n",
    "    test_size=0.2,  # Adjust the test size as desired (e.g., 0.2 for 20% test data)\n",
    "    random_state=38  # Set a random seed for reproducibility\n",
    ")\n",
    "\n",
    "# Create an instance of an SVM classifier\n",
    "svm = SVC(C=0.1, kernel='linear', random_state=38)\n",
    "\n",
    "# Train the model\n",
    "svm.fit(X_train, y_train)\n",
    "\n",
    "# Generate predictions\n",
    "predictions = svm.predict(X_test)\n",
    "\n",
    "# Calculate the F1 score\n",
    "f1 = f1_score(y_test, predictions)\n",
    "\n",
    "# Print the F1 score\n",
    "print(\"F1 score:\", f1)"
   ]
  }
 ],
 "metadata": {
  "kernelspec": {
   "display_name": "Python 3 (ipykernel)",
   "language": "python",
   "name": "python3"
  },
  "language_info": {
   "codemirror_mode": {
    "name": "ipython",
    "version": 3
   },
   "file_extension": ".py",
   "mimetype": "text/x-python",
   "name": "python",
   "nbconvert_exporter": "python",
   "pygments_lexer": "ipython3",
   "version": "3.10.9"
  }
 },
 "nbformat": 4,
 "nbformat_minor": 5
}
