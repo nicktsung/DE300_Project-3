{
 "cells": [
  {
   "cell_type": "code",
   "execution_count": 1,
   "id": "6978eb0e",
   "metadata": {},
   "outputs": [],
   "source": [
    "import pandas as pd\n",
    "from pandas.io.formats.style import Styler\n",
    "import numpy as np\n",
    "import matplotlib.pyplot as plt\n",
    "import seaborn as sns\n",
    "from fancyimpute import IterativeImputer\n",
    "pd.set_option('display.width', 180)\n",
    "plt.style.use('ggplot')\n",
    "from IPython.display import display\n",
    "from sklearn.ensemble import RandomForestRegressor\n",
    "from sklearn.ensemble import RandomForestClassifier\n",
    "from xgboost import XGBRegressor\n",
    "from xgboost import XGBClassifier\n",
    "from sklearn.preprocessing import QuantileTransformer\n",
    "import math\n",
    "import scipy.stats\n",
    "from sklearn.model_selection import cross_val_score"
   ]
  },
  {
   "cell_type": "code",
   "execution_count": 66,
   "id": "8915a747",
   "metadata": {},
   "outputs": [],
   "source": [
    "# read in the data\n",
    "heart = pd.read_excel('heart_disease.xlsx').iloc[:899,:]\n",
    "df_module1 = pd.read_csv('Module1_dataset.csv', index_col = 0)\n",
    "df_module2 = pd.read_csv('spark_df.csv', index_col = 0)\n",
    "smoking_rates = pd.read_csv('smoking_rates.csv', index_col = 0)"
   ]
  },
  {
   "cell_type": "code",
   "execution_count": 67,
   "id": "92cc563a",
   "metadata": {},
   "outputs": [
    {
     "name": "stdout",
     "output_type": "stream",
     "text": [
      "['age', 'sex', 'trestbps', 'chol', 'thaldur', 'met', 'thalach', 'thalrest', 'tpeakbps', 'tpeakbpd', 'trestbpd', 'oldpeak', 'painloc_0.0', 'painloc_1.0', 'painloc_missing', 'pncaden_0.0', 'pncaden_1.0', 'pncaden_2.0', 'pncaden_3.0', 'pncaden_missing', 'cp_1.0', 'cp_2.0', 'cp_3.0', 'cp_4.0', 'htn_0.0', 'htn_1.0', 'htn_missing', 'fbs_0.0', 'fbs_1.0', 'fbs_missing', 'restecg_0.0', 'restecg_1.0', 'restecg_2.0', 'restecg_missing', 'dig_0.0', 'dig_1.0', 'dig_missing', 'prop_0.0', 'prop_1.0', 'prop_missing', 'nitr_0.0', 'nitr_1.0', 'nitr_missing', 'pro_0.0', 'pro_1.0', 'pro_missing', 'diuretic_0.0', 'diuretic_1.0', 'diuretic_missing', 'exang_0.0', 'exang_1.0', 'exang_missing', 'xhypo_0.0', 'xhypo_1.0', 'xhypo_missing', 'slope_1.0', 'slope_2.0', 'slope_3.0', 'slope_missing', 'target'] \n",
      "\n",
      "['age', 'sex', 'cp', 'trestbps', 'fbs', 'prop', 'nitr', 'pro', 'diuretic', 'thaldur', 'thalach', 'exang', 'oldpeak', 'target', 'smoke_imputed_source1', 'smoke_imputed_source2', 'slope_encoded', 'painloc_encoded', 'painexer_encoded']\n"
     ]
    }
   ],
   "source": [
    "print(list(df_module1.columns), '\\n')\n",
    "print(list(df_module2.columns))"
   ]
  },
  {
   "cell_type": "markdown",
   "id": "e945b64c",
   "metadata": {},
   "source": [
    "There's a lot of ways that we can merge these two datasets, but considering that the first includes all variables from the second module, except smoke columns and painexer, we'll consider that dataframe the base and add/replace columns from the second module/scraped data\n",
    "\n",
    "Due to the limitations of spark, the imputation done between both modules heavily differed. The first module utilized multiple imputation with an xgboost regressor to impute numerical variables while the second module utilized median/minimum/maximum imputation depending on the context. Furthermore, for categorical variables, the first module simply imputed a missing column, while the second module imputed a 'missing' category or the column's most frequent value depending on the context.\n",
    "\n",
    "In general, xgboost is much more robust than the other aforementioned forms of imputation, so we'll stick with the imputed numerical columns from the first module. Though, the first module did not address tresbps values under 100 mmHg and oldpeak values outside of the range [0,4]. This is something we can merge between the two.\n",
    "\n",
    "For categorical columns, the following was done in the second module:\n",
    "\n",
    "fbs, prop, nitr, pro, diuretic: Replace the missing values and values greater than 1\n",
    "painloc, painexer, exang, slope: Replace the missing values\n",
    "\n",
    "The first module's method of just replacing the missing values with a new missing category (including values greater than 1) is overall better for reducing bias, so we'll stick with those columns. Though, painexer isn't used in the first module, pncaden was used instead to encapsulate more information. We'll stick with that column as during the first round of EDA, that variable appeared more useful.\n",
    "\n",
    "As for the smoke columns, these were left out of the first module for the amount of missing values. In the second module, we used data scraped online to impute the missing values. The first source only used the age group, while the second included patient's sex as well. As talked about in the webscraping section of this module, the dataset is from 1998, so the data we scraped in module 2 is long after the time of our dataset. In turn, we scraped some data from the new source given to us in this module to try to scale the smoking rates to more accurately represent what they might have been in that time.\n",
    "\n",
    "We don't want 3 entire columns dedicated to imputed smoke values as this is redundant. We'll keep the imputed values from source 2 as they provide more information and not use column from source 1. Then we'll include a new imputed smoke column which uses the new smoking rates we calculated from combining the three sources' information."
   ]
  },
  {
   "cell_type": "code",
   "execution_count": 83,
   "id": "7d2eb4f5",
   "metadata": {},
   "outputs": [],
   "source": [
    "# add the imputed smoke column to the df\n",
    "df_module1['smoke_imputed_source2'] = df_module2['smoke_imputed_source2']\n",
    "\n",
    "# add the original smoke column to the df to impute\n",
    "df_module1['smoke'] = heart['smoke']\n",
    "df_module1['smoke'] = df_module1['smoke'].fillna(1000)"
   ]
  },
  {
   "cell_type": "code",
   "execution_count": 69,
   "id": "719a141d",
   "metadata": {},
   "outputs": [
    {
     "data": {
      "text/html": [
       "<div>\n",
       "<style scoped>\n",
       "    .dataframe tbody tr th:only-of-type {\n",
       "        vertical-align: middle;\n",
       "    }\n",
       "\n",
       "    .dataframe tbody tr th {\n",
       "        vertical-align: top;\n",
       "    }\n",
       "\n",
       "    .dataframe thead th {\n",
       "        text-align: right;\n",
       "    }\n",
       "</style>\n",
       "<table border=\"1\" class=\"dataframe\">\n",
       "  <thead>\n",
       "    <tr style=\"text-align: right;\">\n",
       "      <th></th>\n",
       "      <th>age_group</th>\n",
       "      <th>smoking_rate_male_adjusted</th>\n",
       "      <th>smoking_rate_female_adjusted</th>\n",
       "    </tr>\n",
       "  </thead>\n",
       "  <tbody>\n",
       "    <tr>\n",
       "      <th>0</th>\n",
       "      <td>18–24</td>\n",
       "      <td>0.264594</td>\n",
       "      <td>0.204000</td>\n",
       "    </tr>\n",
       "    <tr>\n",
       "      <th>1</th>\n",
       "      <td>25–34</td>\n",
       "      <td>0.380591</td>\n",
       "      <td>0.293432</td>\n",
       "    </tr>\n",
       "    <tr>\n",
       "      <th>2</th>\n",
       "      <td>35–44</td>\n",
       "      <td>0.352100</td>\n",
       "      <td>0.271467</td>\n",
       "    </tr>\n",
       "    <tr>\n",
       "      <th>3</th>\n",
       "      <td>45–54</td>\n",
       "      <td>0.375111</td>\n",
       "      <td>0.289207</td>\n",
       "    </tr>\n",
       "    <tr>\n",
       "      <th>4</th>\n",
       "      <td>55–64</td>\n",
       "      <td>0.348317</td>\n",
       "      <td>0.268550</td>\n",
       "    </tr>\n",
       "    <tr>\n",
       "      <th>5</th>\n",
       "      <td>65–74</td>\n",
       "      <td>0.196378</td>\n",
       "      <td>0.151406</td>\n",
       "    </tr>\n",
       "    <tr>\n",
       "      <th>6</th>\n",
       "      <td>75+</td>\n",
       "      <td>0.126438</td>\n",
       "      <td>0.097482</td>\n",
       "    </tr>\n",
       "  </tbody>\n",
       "</table>\n",
       "</div>"
      ],
      "text/plain": [
       "  age_group  smoking_rate_male_adjusted  smoking_rate_female_adjusted\n",
       "0     18–24                    0.264594                      0.204000\n",
       "1     25–34                    0.380591                      0.293432\n",
       "2     35–44                    0.352100                      0.271467\n",
       "3     45–54                    0.375111                      0.289207\n",
       "4     55–64                    0.348317                      0.268550\n",
       "5     65–74                    0.196378                      0.151406\n",
       "6       75+                    0.126438                      0.097482"
      ]
     },
     "execution_count": 69,
     "metadata": {},
     "output_type": "execute_result"
    }
   ],
   "source": [
    "smoking_rates"
   ]
  },
  {
   "cell_type": "code",
   "execution_count": 88,
   "id": "28ef93e0",
   "metadata": {},
   "outputs": [],
   "source": [
    "keys = list(smoking_rates['age_group'])\n",
    "male_rates = list(smoking_rates['smoking_rate_male_adjusted'])\n",
    "female_rates = list(smoking_rates['smoking_rate_female_adjusted'])\n",
    "length = len(keys)\n",
    "\n",
    "def get_smoking_rate(x):\n",
    "    \n",
    "    if x['smoke'] != 1000:\n",
    "        return x['smoke']\n",
    "    \n",
    "    age = x['age'] \n",
    "    sex = x['sex']\n",
    "    \n",
    "    if sex == 0:\n",
    "        for i in range(length - 1):\n",
    "            # extract the lower and upper bounds of the age range\n",
    "            lower = int(keys[i].split('–')[0])\n",
    "            upper = int(keys[i].split('–')[1])\n",
    "            \n",
    "            # check if the age falls within the range\n",
    "            if age in range(lower, upper + 1):\n",
    "                return female_rates[i]\n",
    "        \n",
    "        # if age is outside the provided ranges, use the last value\n",
    "        return female_rates[length - 1]\n",
    "    \n",
    "    else:\n",
    "        for i in range(length - 1):\n",
    "            # extract the lower and upper bounds of the age range\n",
    "            lower = int(keys[i].split('–')[0])\n",
    "            upper = int(keys[i].split('–')[1])\n",
    "            \n",
    "            # check if the age falls within the range\n",
    "            if age in range(lower, upper + 1):\n",
    "                return male_rates[i]\n",
    "        \n",
    "        # if age is outside the provided ranges, use the last value\n",
    "        return male_rates[length - 1]\n",
    "        "
   ]
  },
  {
   "cell_type": "code",
   "execution_count": 90,
   "id": "c7f54507",
   "metadata": {},
   "outputs": [],
   "source": [
    "# apply to new function to get a new imputed smoke column\n",
    "df_module1['smoke_new_imputed'] = df_module1[['smoke', 'age', 'sex']].apply(get_smoking_rate, axis = 1)\n",
    "df_module1 = df_module1.drop('smoke', axis = 1)"
   ]
  },
  {
   "cell_type": "code",
   "execution_count": 95,
   "id": "15f77a32",
   "metadata": {},
   "outputs": [
    {
     "data": {
      "text/plain": [
       "0      0.348317\n",
       "1      0.196378\n",
       "2      0.196378\n",
       "3      0.352100\n",
       "4      0.271467\n",
       "         ...   \n",
       "894    0.375111\n",
       "895    1.000000\n",
       "896    0.348317\n",
       "897    0.375111\n",
       "898    0.151406\n",
       "Name: smoke_new_imputed, Length: 899, dtype: float64"
      ]
     },
     "execution_count": 95,
     "metadata": {},
     "output_type": "execute_result"
    }
   ],
   "source": [
    "df_module1['smoke_new_imputed']"
   ]
  },
  {
   "cell_type": "markdown",
   "id": "d9c13112",
   "metadata": {},
   "source": [
    "Clearly, we kept most columns from the first module and only the imputed column from the second module. This is because in the first module, we were much less strict on removing columns than the given columns were in the second module. Furthermore, pyspark's integration of more complex forms of imputation, such as the multiple imputation with xgboost regressors done in module 1, is not nearly as good as that of sklearn. Because of this, the imputed columns that both modules share are more likely to be less biased from the first module.\n",
    "\n",
    "The only columns from module 2 which provided completely new information were the imputed smoke columns, and with a new imputed column needed to included the data from the new web source in this module, it would have been redundant to keep both."
   ]
  },
  {
   "cell_type": "code",
   "execution_count": 97,
   "id": "e8e6b765",
   "metadata": {},
   "outputs": [],
   "source": [
    "df_module1.to_csv('merged_dataset.csv')"
   ]
  }
 ],
 "metadata": {
  "kernelspec": {
   "display_name": "Python 3 (ipykernel)",
   "language": "python",
   "name": "python3"
  },
  "language_info": {
   "codemirror_mode": {
    "name": "ipython",
    "version": 3
   },
   "file_extension": ".py",
   "mimetype": "text/x-python",
   "name": "python",
   "nbconvert_exporter": "python",
   "pygments_lexer": "ipython3",
   "version": "3.10.9"
  }
 },
 "nbformat": 4,
 "nbformat_minor": 5
}
