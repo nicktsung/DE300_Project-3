{
 "cells": [
  {
   "cell_type": "code",
   "execution_count": 99,
   "id": "33fe651f",
   "metadata": {},
   "outputs": [],
   "source": [
    "import requests\n",
    "from bs4 import BeautifulSoup\n",
    "import re\n",
    "import pandas as pd\n",
    "import matplotlib.pyplot as plt\n",
    "import numpy as np\n",
    "import os\n",
    "import sys\n",
    "import math\n",
    "#%%"
   ]
  },
  {
   "cell_type": "code",
   "execution_count": 3,
   "id": "17cc4e93",
   "metadata": {},
   "outputs": [
    {
     "name": "stdout",
     "output_type": "stream",
     "text": [
      "{'18–24': 8.3, '25–34': 10.6, '35–44': 11.7, '45–54': 13.6, '55–64': 13.7, '65–74': 8.9, '75+': 3.4}\n",
      "[0.131, 0.101]\n",
      "['18–24', '25–44', '45–64']\n",
      "[0.053, 0.126, 0.149, 0.083]\n"
     ]
    }
   ],
   "source": [
    "# source 1: Smoking rates by age group\n",
    "url_source1 = \"https://www.abs.gov.au/statistics/health/health-conditions-and-risks/smoking/latest-release\"\n",
    "response_source1 = requests.get(url_source1)\n",
    "soup_source1 = BeautifulSoup(response_source1.content, \"html.parser\")\n",
    "\n",
    "# extract smoking rates by age group\n",
    "smoking_rates_source1 = {}\n",
    "table_source1 = soup_source1.find(\"table\", class_=\"responsive-enabled\")\n",
    "rows_source1 = table_source1.find_all(\"tr\")\n",
    "for row in rows_source1[1:]:\n",
    "    age_groups = row.find_all(\"th\")\n",
    "    columns = row.find_all(\"td\")\n",
    "    age_group = age_groups[0].text.strip()\n",
    "    smoking_rate = float(columns[0].text.strip())\n",
    "    smoking_rates_source1[age_group] = smoking_rate\n",
    "\n",
    "# send a GET request to the website\n",
    "url = \"https://www.cdc.gov/tobacco/data_statistics/fact_sheets/adult_data/cig_smoking/index.htm\"\n",
    "response = requests.get(url)\n",
    "\n",
    "# create a BeautifulSoup object\n",
    "soup = BeautifulSoup(response.text, \"html.parser\")\n",
    "\n",
    "# find the relevant section containing smoking rates by sex\n",
    "div_element = soup.find_all('div', class_='card border-0 rounded-0 mb-3')[0]\n",
    "li_elements = div_element.find_all('li')\n",
    "\n",
    "# extract smoking rates by sex\n",
    "percentage_list = []\n",
    "\n",
    "\n",
    "for li_element in li_elements:\n",
    "    percentage_text = li_element.text.strip()  # Get the text content and remove leading/trailing spaces\n",
    "    \n",
    "    # extract the percentage using regular expression\n",
    "    percentage_match = re.search(r'(\\d+\\.\\d+)%', percentage_text)\n",
    "    if percentage_match:\n",
    "        percentage = round(float(percentage_match.group(1))/100, 4)\n",
    "        percentage_list.append(percentage)\n",
    "        \n",
    "# find the relevant section containing smoking rates by age group\n",
    "div_element = soup.find_all('div', class_='card border-0 rounded-0 mb-3')[1]\n",
    "li_elements = div_element.find_all('li')\n",
    "age_groups2 = []\n",
    "percentage_list2 = []\n",
    "\n",
    "for li_element in li_elements:\n",
    "    percentage_text = li_element.text.strip()  # Get the text content and remove leading/trailing spaces\n",
    "    \n",
    "    # extract the percentage using regular expression\n",
    "    percentage_match = re.search(r'(\\d+\\.\\d+)%', percentage_text)\n",
    "    if percentage_match:\n",
    "        percentage = round(float(percentage_match.group(1))/100, 4)\n",
    "        percentage_list2.append(percentage)\n",
    "        \n",
    "    # extract the \n",
    "    age_range_match = re.search(r\"aged (\\d+–\\d+)\", percentage_text)\n",
    "    if age_range_match:\n",
    "        age_range = age_range_match.group(1)\n",
    "        age_groups2.append(age_range)\n",
    "\n",
    "print(smoking_rates_source1)\n",
    "\n",
    "print(percentage_list)\n",
    "print(age_groups2)\n",
    "print(percentage_list2)\n",
    "\n",
    "#%%"
   ]
  },
  {
   "cell_type": "code",
   "execution_count": 4,
   "id": "db1b420a",
   "metadata": {},
   "outputs": [],
   "source": [
    "# source 1: Smoking rates by age group\n",
    "url_source = \"https://wayback.archive-it.org/5774/20211119125806/https:/www.healthypeople.gov/2020/data-search/Search-the-Data?nid=5342\"\n",
    "response_source = requests.get(url_source)\n",
    "soup = BeautifulSoup(response_source.content, \"html.parser\")"
   ]
  },
  {
   "cell_type": "code",
   "execution_count": 5,
   "id": "96d2b3e8",
   "metadata": {},
   "outputs": [
    {
     "data": {
      "text/plain": [
       "['Total View Chart',\n",
       " 'Sex  View ChartView Disparities',\n",
       " 'Male ',\n",
       " 'Female ',\n",
       " 'Race/Ethnicity  View ChartView Disparities',\n",
       " 'American Indian or Alaska Native only ',\n",
       " 'Asian only ',\n",
       " 'Native Hawaiian or Other Pacific Islander only ',\n",
       " 'Black or African American only ',\n",
       " 'White only ',\n",
       " '2 or more races ',\n",
       " 'Hispanic or Latino ',\n",
       " 'Not Hispanic or Latino ',\n",
       " 'Black or African American only, not Hispanic or Latino ',\n",
       " 'White only, not Hispanic or Latino ',\n",
       " 'Obesity status  View ChartView Disparities',\n",
       " 'Obese ',\n",
       " 'Not obese ',\n",
       " 'Grade level  View ChartView Disparities',\n",
       " '9th ',\n",
       " '10th ',\n",
       " '11th ',\n",
       " '12th ']"
      ]
     },
     "execution_count": 5,
     "metadata": {},
     "output_type": "execute_result"
    }
   ],
   "source": [
    "soup_titles = soup.find_all(class_='ds-inner-poptitle')\n",
    "\n",
    "titles = []\n",
    "\n",
    "for soup_title in soup_titles:\n",
    "    titles.append(soup_title.text)\n",
    "\n",
    "titles"
   ]
  },
  {
   "cell_type": "code",
   "execution_count": 15,
   "id": "b423eb7d",
   "metadata": {},
   "outputs": [
    {
     "data": {
      "text/plain": [
       "<span class=\"ds-data-point ds-1999\"></span>"
      ]
     },
     "execution_count": 15,
     "metadata": {},
     "output_type": "execute_result"
    }
   ],
   "source": [
    "soup_dat"
   ]
  },
  {
   "cell_type": "code",
   "execution_count": 18,
   "id": "1cefb394",
   "metadata": {},
   "outputs": [
    {
     "data": {
      "text/plain": [
       "['34.8', '', '34.7', '34.9']"
      ]
     },
     "execution_count": 18,
     "metadata": {},
     "output_type": "execute_result"
    }
   ],
   "source": [
    "soup_data = soup.find_all(class_='ds-data-point ds-1999')\n",
    "\n",
    "data = []\n",
    "\n",
    "for soup_dat in soup_data:\n",
    "    estimate = soup_dat.find(class_ = 'dp-data-estimate')\n",
    "    if estimate is not None:\n",
    "        data.append(estimate.text)\n",
    "\n",
    "removables = []\n",
    "\n",
    "for item in removables:\n",
    "    data.remove(item)\n",
    "    \n",
    "data"
   ]
  },
  {
   "cell_type": "code",
   "execution_count": 19,
   "id": "70e57d22",
   "metadata": {},
   "outputs": [
    {
     "data": {
      "text/plain": [
       "{'Male ': '34.7', 'Female ': '34.9'}"
      ]
     },
     "execution_count": 19,
     "metadata": {},
     "output_type": "execute_result"
    }
   ],
   "source": [
    "indices = [2,3]\n",
    "\n",
    "panda_dict = {}\n",
    "\n",
    "for i in indices:\n",
    "    panda_dict[titles[i]] = data[i]\n",
    "    \n",
    "panda_dict"
   ]
  },
  {
   "cell_type": "code",
   "execution_count": 20,
   "id": "de57ccca",
   "metadata": {},
   "outputs": [
    {
     "name": "stdout",
     "output_type": "stream",
     "text": [
      "{'18–24': 8.3, '25–34': 10.6, '35–44': 11.7, '45–54': 13.6, '55–64': 13.7, '65–74': 8.9, '75+': 3.4}\n",
      "[0.131, 0.101]\n",
      "['18–24', '25–44', '45–64']\n",
      "[0.053, 0.126, 0.149, 0.083]\n",
      "{'Male ': '34.7', 'Female ': '34.9'}\n"
     ]
    }
   ],
   "source": [
    "print(smoking_rates_source1)\n",
    "print(percentage_list)\n",
    "print(age_groups2)\n",
    "print(percentage_list2)\n",
    "print(panda_dict)"
   ]
  },
  {
   "cell_type": "markdown",
   "id": "14abc7d0",
   "metadata": {},
   "source": [
    "The goal here is to combine all of the data to merge with the other two datasets.\n",
    "\n",
    "Across the three sources, we have smoking rates based on people's sex, age, race, region, state, education, income, mental health status, and health insurance.\n",
    "\n",
    "However, the only information we have on each patient from these factors is sex and age. Trying to blindly utilize rates without knowing the proper information would likely introduce a lot of unnecessary bias into the model, so it's best to just stick to age and sex.\n",
    "\n",
    "This heart disease dataset is from 1998, but the data from the former 2 of the 3 sources is based on 2018 and 2021. Considering that smoking rates have likely drastically changed since that time, using the rates from 2018 and 2021 is likely inaccurate. The first source contains data dating back to 1999, but it's only data on adolescents.\n",
    "\n",
    "Not only are the smoking rates inaccurate just in general, but even the way they are distributed amongst age groups is likely highly inaccurate as well. Not only was smoking more popular in 1998 than today, but it was comparetively much more popular amongst young people then than young people now due to the success of anti-smoking movements stigmatizing smoking cigarettes as gross. This means that we can't just use the adolescent rates to factor up the age group smoking rates by a constant factor.\n",
    "\n",
    "Ideally, we could have just originally scraped data from 1999, but part of this project is to be creative in how we address this issue with the sites we were given.\n",
    "\n",
    "Proposition:\n",
    "First combine the rates by age group from the first two sources, by averaging rates from overlapping age groups. Then, split them by sex, with each sex scaled by (average smoking rate between sexs in 1999)/(average smoking rate between sexs in 2021) for females and that same factor but multiplied by (male smoking rate in 2021)/(female smoking rate in 2021)/n for males. The reason for the extra division by n is that the smoke rates of adolescents being so similar back then points to the possibility that females and males smoked in much closer proportions rather than in the 2021 data. We'll choose a value of n that still keeps the male factor larger than the female factor while reducing the difference.\n",
    "\n",
    "Furthermore, we'll multiply the rates by some ratio 1/ln(e + i/r), where i is the index for each age group and r is some chosen parameter. Including e allows the function to be 1 when the index, i, is 0. As i increases, the ratio decreases so that older age groups are not as affected by the upscaling. Including r allows us to toggle how much the ratio decreases as i gets larger; higher values of r make it so that i has less of an effect.\n",
    "\n",
    "Again, this isn't a perfect way to do this, but with the lack of the necessary information to have the most unbiased imputation of the smoke column, this isn't a bad solution."
   ]
  },
  {
   "cell_type": "code",
   "execution_count": 31,
   "id": "aa2edab3",
   "metadata": {},
   "outputs": [
    {
     "data": {
      "text/plain": [
       "{'18–24': 0.068,\n",
       " '25–34': 0.11599999999999999,\n",
       " '35–44': 0.1215,\n",
       " '45–54': 0.14250000000000002,\n",
       " '55–64': 0.143,\n",
       " '65–74': 0.08600000000000001,\n",
       " '75+': 0.0585}"
      ]
     },
     "execution_count": 31,
     "metadata": {},
     "output_type": "execute_result"
    }
   ],
   "source": [
    "# average age group rates\n",
    "smoking_rates = {}\n",
    "smoking_rates['18–24'] = (smoking_rates_source1['18–24']/100 + percentage_list2[0])/2\n",
    "smoking_rates['25–34'] = (smoking_rates_source1['25–34']/100 + percentage_list2[1])/2\n",
    "smoking_rates['35–44'] = (smoking_rates_source1['35–44']/100 + percentage_list2[1])/2\n",
    "smoking_rates['45–54'] = (smoking_rates_source1['45–54']/100 + percentage_list2[2])/2\n",
    "smoking_rates['55–64'] = (smoking_rates_source1['55–64']/100 + percentage_list2[2])/2\n",
    "smoking_rates['65–74'] = (smoking_rates_source1['65–74']/100 + percentage_list2[3])/2\n",
    "smoking_rates['75+'] = (smoking_rates_source1['75+']/100 + percentage_list2[3])/2\n",
    "\n",
    "smoking_rates"
   ]
  },
  {
   "cell_type": "code",
   "execution_count": 38,
   "id": "5a3cbb91",
   "metadata": {},
   "outputs": [
    {
     "data": {
      "text/html": [
       "<div>\n",
       "<style scoped>\n",
       "    .dataframe tbody tr th:only-of-type {\n",
       "        vertical-align: middle;\n",
       "    }\n",
       "\n",
       "    .dataframe tbody tr th {\n",
       "        vertical-align: top;\n",
       "    }\n",
       "\n",
       "    .dataframe thead th {\n",
       "        text-align: right;\n",
       "    }\n",
       "</style>\n",
       "<table border=\"1\" class=\"dataframe\">\n",
       "  <thead>\n",
       "    <tr style=\"text-align: right;\">\n",
       "      <th></th>\n",
       "      <th>age_group</th>\n",
       "      <th>smoking_rate</th>\n",
       "    </tr>\n",
       "  </thead>\n",
       "  <tbody>\n",
       "    <tr>\n",
       "      <th>0</th>\n",
       "      <td>18–24</td>\n",
       "      <td>0.0680</td>\n",
       "    </tr>\n",
       "    <tr>\n",
       "      <th>1</th>\n",
       "      <td>25–34</td>\n",
       "      <td>0.1160</td>\n",
       "    </tr>\n",
       "    <tr>\n",
       "      <th>2</th>\n",
       "      <td>35–44</td>\n",
       "      <td>0.1215</td>\n",
       "    </tr>\n",
       "    <tr>\n",
       "      <th>3</th>\n",
       "      <td>45–54</td>\n",
       "      <td>0.1425</td>\n",
       "    </tr>\n",
       "    <tr>\n",
       "      <th>4</th>\n",
       "      <td>55–64</td>\n",
       "      <td>0.1430</td>\n",
       "    </tr>\n",
       "    <tr>\n",
       "      <th>5</th>\n",
       "      <td>65–74</td>\n",
       "      <td>0.0860</td>\n",
       "    </tr>\n",
       "    <tr>\n",
       "      <th>6</th>\n",
       "      <td>75+</td>\n",
       "      <td>0.0585</td>\n",
       "    </tr>\n",
       "  </tbody>\n",
       "</table>\n",
       "</div>"
      ],
      "text/plain": [
       "  age_group  smoking_rate\n",
       "0     18–24        0.0680\n",
       "1     25–34        0.1160\n",
       "2     35–44        0.1215\n",
       "3     45–54        0.1425\n",
       "4     55–64        0.1430\n",
       "5     65–74        0.0860\n",
       "6       75+        0.0585"
      ]
     },
     "execution_count": 38,
     "metadata": {},
     "output_type": "execute_result"
    }
   ],
   "source": [
    "# import data into panda dataframe\n",
    "dict_panda = {\n",
    "    'age_group' : list(smoking_rates.keys()),\n",
    "    'smoking_rate' : list(smoking_rates.values())\n",
    "}\n",
    "\n",
    "pd_smoke = pd.DataFrame(dict_panda)\n",
    "pd_smoke"
   ]
  },
  {
   "cell_type": "code",
   "execution_count": 147,
   "id": "77794b97",
   "metadata": {},
   "outputs": [],
   "source": [
    "# calculate the scale factors by sex for data\n",
    "average_1999 =(float(panda_dict['Male ']) + float(panda_dict['Female ']))/2/100\n",
    "average_2021 = (percentage_list[0] + percentage_list[1])/2\n",
    "\n",
    "female_factor = average_1999 / average_2021\n",
    "male_factor = female_factor * (percentage_list[0] / percentage_list[1] / 1.1)"
   ]
  },
  {
   "cell_type": "code",
   "execution_count": 148,
   "id": "f065c700",
   "metadata": {},
   "outputs": [
    {
     "data": {
      "text/plain": [
       "2.9999999999999996"
      ]
     },
     "execution_count": 148,
     "metadata": {},
     "output_type": "execute_result"
    }
   ],
   "source": [
    "female_factor"
   ]
  },
  {
   "cell_type": "code",
   "execution_count": 149,
   "id": "574d71b9",
   "metadata": {},
   "outputs": [
    {
     "data": {
      "text/plain": [
       "3.5373537353735363"
      ]
     },
     "execution_count": 149,
     "metadata": {},
     "output_type": "execute_result"
    }
   ],
   "source": [
    "male_factor"
   ]
  },
  {
   "cell_type": "code",
   "execution_count": 66,
   "id": "57555b32",
   "metadata": {},
   "outputs": [
    {
     "data": {
      "text/html": [
       "<div>\n",
       "<style scoped>\n",
       "    .dataframe tbody tr th:only-of-type {\n",
       "        vertical-align: middle;\n",
       "    }\n",
       "\n",
       "    .dataframe tbody tr th {\n",
       "        vertical-align: top;\n",
       "    }\n",
       "\n",
       "    .dataframe thead th {\n",
       "        text-align: right;\n",
       "    }\n",
       "</style>\n",
       "<table border=\"1\" class=\"dataframe\">\n",
       "  <thead>\n",
       "    <tr style=\"text-align: right;\">\n",
       "      <th></th>\n",
       "      <th>age_group</th>\n",
       "      <th>smoking_rate</th>\n",
       "      <th>smoking_rate_male</th>\n",
       "      <th>smoking_rate_female</th>\n",
       "    </tr>\n",
       "  </thead>\n",
       "  <tbody>\n",
       "    <tr>\n",
       "      <th>0</th>\n",
       "      <td>18–24</td>\n",
       "      <td>0.0680</td>\n",
       "      <td>0.264594</td>\n",
       "      <td>0.2040</td>\n",
       "    </tr>\n",
       "    <tr>\n",
       "      <th>1</th>\n",
       "      <td>25–34</td>\n",
       "      <td>0.1160</td>\n",
       "      <td>0.451366</td>\n",
       "      <td>0.3480</td>\n",
       "    </tr>\n",
       "    <tr>\n",
       "      <th>2</th>\n",
       "      <td>35–44</td>\n",
       "      <td>0.1215</td>\n",
       "      <td>0.472767</td>\n",
       "      <td>0.3645</td>\n",
       "    </tr>\n",
       "    <tr>\n",
       "      <th>3</th>\n",
       "      <td>45–54</td>\n",
       "      <td>0.1425</td>\n",
       "      <td>0.554480</td>\n",
       "      <td>0.4275</td>\n",
       "    </tr>\n",
       "    <tr>\n",
       "      <th>4</th>\n",
       "      <td>55–64</td>\n",
       "      <td>0.1430</td>\n",
       "      <td>0.556426</td>\n",
       "      <td>0.4290</td>\n",
       "    </tr>\n",
       "    <tr>\n",
       "      <th>5</th>\n",
       "      <td>65–74</td>\n",
       "      <td>0.0860</td>\n",
       "      <td>0.334634</td>\n",
       "      <td>0.2580</td>\n",
       "    </tr>\n",
       "    <tr>\n",
       "      <th>6</th>\n",
       "      <td>75+</td>\n",
       "      <td>0.0585</td>\n",
       "      <td>0.227629</td>\n",
       "      <td>0.1755</td>\n",
       "    </tr>\n",
       "  </tbody>\n",
       "</table>\n",
       "</div>"
      ],
      "text/plain": [
       "  age_group  smoking_rate  smoking_rate_male  smoking_rate_female\n",
       "0     18–24        0.0680           0.264594               0.2040\n",
       "1     25–34        0.1160           0.451366               0.3480\n",
       "2     35–44        0.1215           0.472767               0.3645\n",
       "3     45–54        0.1425           0.554480               0.4275\n",
       "4     55–64        0.1430           0.556426               0.4290\n",
       "5     65–74        0.0860           0.334634               0.2580\n",
       "6       75+        0.0585           0.227629               0.1755"
      ]
     },
     "execution_count": 66,
     "metadata": {},
     "output_type": "execute_result"
    }
   ],
   "source": [
    "# apply the factors\n",
    "pd_smoke['smoking_rate_male'] = pd_smoke['smoking_rate'].apply(lambda x: x*male_factor)\n",
    "pd_smoke['smoking_rate_female'] = pd_smoke['smoking_rate'].apply(lambda x: x*female_factor)\n",
    "pd_smoke"
   ]
  },
  {
   "cell_type": "code",
   "execution_count": 123,
   "id": "c807bb64",
   "metadata": {},
   "outputs": [
    {
     "data": {
      "text/plain": [
       "[1.0,\n",
       " 0.8431967617944107,\n",
       " 0.7447645162865458,\n",
       " 0.6765085673989129,\n",
       " 0.6259908807517086,\n",
       " 0.586843646106172,\n",
       " 0.5554552016789828]"
      ]
     },
     "execution_count": 123,
     "metadata": {},
     "output_type": "execute_result"
    }
   ],
   "source": [
    "# calculate the list of factors\n",
    "factors = []\n",
    "for i in range(0,len(pd_smoke)):\n",
    "    factors.append(1/np.log(math.e + i/1.8))\n",
    "\n",
    "factors"
   ]
  },
  {
   "cell_type": "code",
   "execution_count": 127,
   "id": "56663da2",
   "metadata": {},
   "outputs": [
    {
     "data": {
      "text/html": [
       "<div>\n",
       "<style scoped>\n",
       "    .dataframe tbody tr th:only-of-type {\n",
       "        vertical-align: middle;\n",
       "    }\n",
       "\n",
       "    .dataframe tbody tr th {\n",
       "        vertical-align: top;\n",
       "    }\n",
       "\n",
       "    .dataframe thead th {\n",
       "        text-align: right;\n",
       "    }\n",
       "</style>\n",
       "<table border=\"1\" class=\"dataframe\">\n",
       "  <thead>\n",
       "    <tr style=\"text-align: right;\">\n",
       "      <th></th>\n",
       "      <th>age_group</th>\n",
       "      <th>smoking_rate</th>\n",
       "      <th>smoking_rate_male</th>\n",
       "      <th>smoking_rate_female</th>\n",
       "      <th>smoking_rate_male_adjusted</th>\n",
       "      <th>smoking_rate_female_adjusted</th>\n",
       "    </tr>\n",
       "  </thead>\n",
       "  <tbody>\n",
       "    <tr>\n",
       "      <th>0</th>\n",
       "      <td>18–24</td>\n",
       "      <td>0.0680</td>\n",
       "      <td>0.264594</td>\n",
       "      <td>0.2040</td>\n",
       "      <td>0.264594</td>\n",
       "      <td>0.204000</td>\n",
       "    </tr>\n",
       "    <tr>\n",
       "      <th>1</th>\n",
       "      <td>25–34</td>\n",
       "      <td>0.1160</td>\n",
       "      <td>0.451366</td>\n",
       "      <td>0.3480</td>\n",
       "      <td>0.380591</td>\n",
       "      <td>0.293432</td>\n",
       "    </tr>\n",
       "    <tr>\n",
       "      <th>2</th>\n",
       "      <td>35–44</td>\n",
       "      <td>0.1215</td>\n",
       "      <td>0.472767</td>\n",
       "      <td>0.3645</td>\n",
       "      <td>0.352100</td>\n",
       "      <td>0.271467</td>\n",
       "    </tr>\n",
       "    <tr>\n",
       "      <th>3</th>\n",
       "      <td>45–54</td>\n",
       "      <td>0.1425</td>\n",
       "      <td>0.554480</td>\n",
       "      <td>0.4275</td>\n",
       "      <td>0.375111</td>\n",
       "      <td>0.289207</td>\n",
       "    </tr>\n",
       "    <tr>\n",
       "      <th>4</th>\n",
       "      <td>55–64</td>\n",
       "      <td>0.1430</td>\n",
       "      <td>0.556426</td>\n",
       "      <td>0.4290</td>\n",
       "      <td>0.348317</td>\n",
       "      <td>0.268550</td>\n",
       "    </tr>\n",
       "    <tr>\n",
       "      <th>5</th>\n",
       "      <td>65–74</td>\n",
       "      <td>0.0860</td>\n",
       "      <td>0.334634</td>\n",
       "      <td>0.2580</td>\n",
       "      <td>0.196378</td>\n",
       "      <td>0.151406</td>\n",
       "    </tr>\n",
       "    <tr>\n",
       "      <th>6</th>\n",
       "      <td>75+</td>\n",
       "      <td>0.0585</td>\n",
       "      <td>0.227629</td>\n",
       "      <td>0.1755</td>\n",
       "      <td>0.126438</td>\n",
       "      <td>0.097482</td>\n",
       "    </tr>\n",
       "  </tbody>\n",
       "</table>\n",
       "</div>"
      ],
      "text/plain": [
       "  age_group  smoking_rate  smoking_rate_male  smoking_rate_female  \\\n",
       "0     18–24        0.0680           0.264594               0.2040   \n",
       "1     25–34        0.1160           0.451366               0.3480   \n",
       "2     35–44        0.1215           0.472767               0.3645   \n",
       "3     45–54        0.1425           0.554480               0.4275   \n",
       "4     55–64        0.1430           0.556426               0.4290   \n",
       "5     65–74        0.0860           0.334634               0.2580   \n",
       "6       75+        0.0585           0.227629               0.1755   \n",
       "\n",
       "   smoking_rate_male_adjusted  smoking_rate_female_adjusted  \n",
       "0                    0.264594                      0.204000  \n",
       "1                    0.380591                      0.293432  \n",
       "2                    0.352100                      0.271467  \n",
       "3                    0.375111                      0.289207  \n",
       "4                    0.348317                      0.268550  \n",
       "5                    0.196378                      0.151406  \n",
       "6                    0.126438                      0.097482  "
      ]
     },
     "execution_count": 127,
     "metadata": {},
     "output_type": "execute_result"
    }
   ],
   "source": [
    "pd_smoke['smoking_rate_male_adjusted'] = pd_smoke['smoking_rate_male']*factors\n",
    "pd_smoke['smoking_rate_female_adjusted'] = pd_smoke['smoking_rate_female']*factors\n",
    "pd_smoke"
   ]
  },
  {
   "cell_type": "code",
   "execution_count": 151,
   "id": "b52bad0c",
   "metadata": {},
   "outputs": [],
   "source": [
    "pd_smoke[['age_group', 'smoking_rate_male_adjusted', 'smoking_rate_female_adjusted']].to_csv('smoking_rates.csv')"
   ]
  }
 ],
 "metadata": {
  "kernelspec": {
   "display_name": "Python 3 (ipykernel)",
   "language": "python",
   "name": "python3"
  },
  "language_info": {
   "codemirror_mode": {
    "name": "ipython",
    "version": 3
   },
   "file_extension": ".py",
   "mimetype": "text/x-python",
   "name": "python",
   "nbconvert_exporter": "python",
   "pygments_lexer": "ipython3",
   "version": "3.10.9"
  }
 },
 "nbformat": 4,
 "nbformat_minor": 5
}
